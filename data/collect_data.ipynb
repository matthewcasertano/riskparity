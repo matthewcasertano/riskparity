{
 "cells": [
  {
   "cell_type": "code",
   "execution_count": 1,
   "metadata": {},
   "outputs": [
    {
     "name": "stdout",
     "output_type": "stream",
     "text": [
      "Downloading data for ['SPY', 'TLT', 'GLD']... (Attempt 1/3)\n",
      "YF.download() has changed argument auto_adjust default to True\n"
     ]
    },
    {
     "name": "stderr",
     "output_type": "stream",
     "text": [
      "[*********************100%***********************]  3 of 3 completed\n",
      "\n",
      "3 Failed downloads:\n",
      "['TLT', 'GLD', 'SPY']: YFRateLimitError('Too Many Requests. Rate limited. Try after a while.')\n"
     ]
    },
    {
     "name": "stdout",
     "output_type": "stream",
     "text": [
      "Data successfully saved to price_data2.csv\n"
     ]
    }
   ],
   "source": [
    "# data_collection.py\n",
    "import pandas as pd\n",
    "import yfinance as yf\n",
    "import time\n",
    "\n",
    "def download_and_save_data(tickers, start_date=\"2005-01-01\", end_date=\"2025-05-14\", filename=\"price_data.csv\"):\n",
    "    \"\"\"\n",
    "    Download price data with retry logic and save to CSV\n",
    "    \"\"\"\n",
    "    max_retries = 3\n",
    "    retry_delay = 5  # seconds\n",
    "    \n",
    "    for attempt in range(max_retries):\n",
    "        try:\n",
    "            print(f\"Downloading data for {tickers}... (Attempt {attempt+1}/{max_retries})\")\n",
    "            data = yf.download(tickers, start=start_date, end=end_date, threads=False)['Close'] # can change threads back to True\n",
    "            \n",
    "            # Save to CSV\n",
    "            data.to_csv(filename)\n",
    "            print(f\"Data successfully saved to {filename}\")\n",
    "            return True\n",
    "            \n",
    "        except Exception as e:\n",
    "            print(f\"Error downloading data: {e}\")\n",
    "            if attempt < max_retries - 1:\n",
    "                print(f\"Retrying in {retry_delay} seconds...\")\n",
    "                time.sleep(retry_delay)\n",
    "                retry_delay *= 2  # Exponential backoff\n",
    "            else:\n",
    "                print(\"Max retries reached. Could not download data.\")\n",
    "                return False\n",
    "\n",
    "if __name__ == \"__main__\":\n",
    "    # Define tickers (using ETFs: SPY for stocks, TLT for long-term bonds, GLD for gold)\n",
    "    tickers = [\"SPY\", \"TLT\", \"GLD\"]\n",
    "    \n",
    "    # Download and save data\n",
    "    # download_and_save_data(tickers, start_date=\"2006-01-01\", end_date=\"2025-05-15\", filename=\"price_data.csv\")\n",
    "    download_and_save_data(tickers, start_date=\"2025-05-15\", end_date=\"2025-10-13\", filename=\"price_data2.csv\")"
   ]
  }
 ],
 "metadata": {
  "kernelspec": {
   "display_name": "Python 3",
   "language": "python",
   "name": "python3"
  },
  "language_info": {
   "codemirror_mode": {
    "name": "ipython",
    "version": 3
   },
   "file_extension": ".py",
   "mimetype": "text/x-python",
   "name": "python",
   "nbconvert_exporter": "python",
   "pygments_lexer": "ipython3",
   "version": "3.13.1"
  }
 },
 "nbformat": 4,
 "nbformat_minor": 2
}
